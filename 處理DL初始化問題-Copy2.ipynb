{
 "cells": [
  {
   "cell_type": "code",
   "execution_count": 4,
   "id": "4e265bb3",
   "metadata": {},
   "outputs": [
    {
     "name": "stdout",
     "output_type": "stream",
     "text": [
      "end time:  ['Jul', '22', '14:12:00']\n"
     ]
    }
   ],
   "source": [
    "import numpy as np\n",
    "import random, time, torch\n",
    "import torch.nn.init as init\n",
    "import tensorflow as tf\n",
    "# 設置隨機種子\n",
    "seed = 0\n",
    "np.random.seed(seed)\n",
    "random.seed(seed)\n",
    "torch.manual_seed(seed)\n",
    "tf.random.set_seed(seed)\n",
    "\n",
    "t1 = time.monotonic(); startime = time.ctime(); startime = startime.split()\n",
    "print(\"end time: \", startime[1:4])"
   ]
  },
  {
   "cell_type": "code",
   "execution_count": 20,
   "id": "d9a831f1",
   "metadata": {},
   "outputs": [
    {
     "name": "stdout",
     "output_type": "stream",
     "text": [
      "end time:  ['Jul', '22', '14:29:24']\n"
     ]
    }
   ],
   "source": [
    "# 生成输入数据\n",
    "nb = 32\n",
    "input_tf = tf.random.normal((nb, 10, 1))\n",
    "targ_tf = tf.random.normal((nb, 1))\n",
    "\n",
    "t1 = time.monotonic(); startime = time.ctime(); startime = startime.split()\n",
    "print(\"end time: \", startime[1:4])"
   ]
  },
  {
   "cell_type": "code",
   "execution_count": 21,
   "id": "da2d51a0",
   "metadata": {
    "scrolled": true
   },
   "outputs": [
    {
     "name": "stdout",
     "output_type": "stream",
     "text": [
      "ouput_tf = \n",
      " [TensorShape([32, 1]), <tf.Tensor: shape=(32, 1), dtype=float32, numpy=\n",
      "array([[0.31212005],\n",
      "       [0.36599502],\n",
      "       [0.3744991 ],\n",
      "       [0.26357841],\n",
      "       [0.4316152 ],\n",
      "       [0.21662524],\n",
      "       [0.71965253],\n",
      "       [0.09666546],\n",
      "       [0.3032107 ],\n",
      "       [0.23645878],\n",
      "       [0.07455332],\n",
      "       [0.3313919 ],\n",
      "       [0.40289629],\n",
      "       [0.37302992],\n",
      "       [0.6448723 ],\n",
      "       [0.32537276],\n",
      "       [0.38375035],\n",
      "       [0.18190469],\n",
      "       [0.24065128],\n",
      "       [0.499044  ],\n",
      "       [0.52254426],\n",
      "       [0.2628636 ],\n",
      "       [0.57755244],\n",
      "       [0.9148287 ],\n",
      "       [0.39798233],\n",
      "       [0.46651536],\n",
      "       [0.49470246],\n",
      "       [0.31223896],\n",
      "       [0.5721373 ],\n",
      "       [0.8103552 ],\n",
      "       [0.5558058 ],\n",
      "       [0.81349385]], dtype=float32)>]\n"
     ]
    }
   ],
   "source": [
    "'''Tensorflow'''\n",
    "from tensorflow.keras import layers, models, optimizers, initializers, Input\n",
    "from tensorflow.keras.models import Sequential\n",
    "from tensorflow.keras.layers import Conv1D, MaxPooling1D, Flatten, Dense, Dropout\n",
    "from tensorflow.keras.optimizers import Adam\n",
    "from tensorflow.keras.initializers import GlorotUniform, HeUniform\n",
    "\n",
    "m_tf = models.Sequential([\n",
    "    tf.keras.layers.Conv1D(3, 3, activation='relu', use_bias=True, kernel_initializer=GlorotUniform(seed=seed)),\n",
    "    tf.keras.layers.Conv1D(3, 3, activation='relu', use_bias=True, kernel_initializer=GlorotUniform(seed=seed)),\n",
    "    layers.Flatten(),\n",
    "    layers.Dense(6, activation='relu', kernel_initializer=GlorotUniform(seed=seed)),\n",
    "    layers.Dense(1, kernel_initializer=GlorotUniform(seed=seed))])     #\n",
    "\n",
    "ouput_tf = m_tf(input_tf)          # 檢查output數據，用於跟pytorch比較\n",
    "print('ouput_tf = \\n', [ouput_tf.shape, ouput_tf])"
   ]
  },
  {
   "cell_type": "code",
   "execution_count": 22,
   "id": "bff76e09",
   "metadata": {
    "scrolled": true
   },
   "outputs": [
    {
     "name": "stdout",
     "output_type": "stream",
     "text": [
      "ouput_py = \n",
      " [tensor([[0.3121],\n",
      "        [0.3660],\n",
      "        [0.3745],\n",
      "        [0.2636],\n",
      "        [0.4316],\n",
      "        [0.2166],\n",
      "        [0.7197],\n",
      "        [0.0967],\n",
      "        [0.3032],\n",
      "        [0.2365],\n",
      "        [0.0746],\n",
      "        [0.3314],\n",
      "        [0.4029],\n",
      "        [0.3730],\n",
      "        [0.6449],\n",
      "        [0.3254],\n",
      "        [0.3838],\n",
      "        [0.1819],\n",
      "        [0.2407],\n",
      "        [0.4990],\n",
      "        [0.5225],\n",
      "        [0.2629],\n",
      "        [0.5776],\n",
      "        [0.9148],\n",
      "        [0.3980],\n",
      "        [0.4665],\n",
      "        [0.4947],\n",
      "        [0.3122],\n",
      "        [0.5721],\n",
      "        [0.8104],\n",
      "        [0.5558],\n",
      "        [0.8135]], grad_fn=<AddmmBackward0>)]\n"
     ]
    }
   ],
   "source": [
    "'''Pytorch'''\n",
    "import torch.nn.init as init\n",
    "from torch import nn, optim\n",
    "\n",
    "input_py = torch.from_numpy(input_tf.numpy().reshape(nb, 1, 10)).float()     # X_train_tf\n",
    "targ_py = torch.from_numpy(targ_tf.numpy().reshape(nb, 1)).float()    # y_train_tf.reshape(5, 1)\n",
    "\n",
    "class PyTorchModel(nn.Module):\n",
    "    def __init__(self):\n",
    "        super(PyTorchModel, self).__init__()\n",
    "        self.conv1 = nn.Conv1d(1, 3, 3)\n",
    "        self.conv2 = nn.Conv1d(3, 3, 3)\n",
    "        self.flatt = nn.Flatten()\n",
    "        self.fc1 = nn.Linear(18, 6)\n",
    "        self.fc2 = nn.Linear(6, 1)\n",
    "\n",
    "    def forward(self, x):\n",
    "        x = torch.relu(self.conv1(x))\n",
    "        x = torch.relu(self.conv2(x))\n",
    "        xs = x.permute(0, 2, 1)            # 扭轉命運的一行\n",
    "        xs = self.flatt(xs)\n",
    "        xs = torch.relu(self.fc1(xs))\n",
    "        xs = self.fc2(xs)\n",
    "        return xs\n",
    "\n",
    "m_py = PyTorchModel()\n",
    "\n",
    "'''將tensorflow的超參數轉移到pytorch上面'''\n",
    "m_tf_weight = m_tf.get_weights()\n",
    "m_py_weights_pre = [np.array(w) for w in m_tf_weight]\n",
    "with torch.no_grad():\n",
    "    m_py.conv1.weight.data = nn.Parameter(torch.tensor(m_py_weights_pre[0].T, dtype=torch.float32))\n",
    "    m_py.conv1.bias.data = nn.Parameter(torch.tensor(m_py_weights_pre[1].T, dtype=torch.float32))\n",
    "    m_py.conv2.weight.data = nn.Parameter(torch.tensor(m_py_weights_pre[2].T, dtype=torch.float32))\n",
    "    m_py.conv2.bias.data = nn.Parameter(torch.tensor(m_py_weights_pre[3].T, dtype=torch.float32))\n",
    "    m_py.fc1.weight.data = nn.Parameter(torch.tensor(m_py_weights_pre[4].T, dtype=torch.float32).contiguous())\n",
    "    m_py.fc1.bias.data = nn.Parameter(torch.tensor(m_py_weights_pre[5].T, dtype=torch.float32))\n",
    "    m_py.fc2.weight.data = nn.Parameter(torch.tensor(m_py_weights_pre[6].T, dtype=torch.float32).contiguous())\n",
    "    m_py.fc2.bias.data = nn.Parameter(torch.tensor(m_py_weights_pre[7].T, dtype=torch.float32))\n",
    "\n",
    "ouput_py = m_py(input_py)          # 檢查output數據，確認tensorflow model的權重友被遷移到pytorch\n",
    "print('ouput_py = \\n', [ouput_py])"
   ]
  },
  {
   "cell_type": "code",
   "execution_count": 23,
   "id": "09f1b9c7",
   "metadata": {},
   "outputs": [
    {
     "name": "stdout",
     "output_type": "stream",
     "text": [
      "start time:  ['Jul', '22', '14:29:27']\n",
      "Epoch 1/5\n",
      "\u001b[1m1/1\u001b[0m \u001b[32m━━━━━━━━━━━━━━━━━━━━\u001b[0m\u001b[37m\u001b[0m \u001b[1m1s\u001b[0m 1s/step - loss: 1.4581 - mae: 1.0440 - learning_rate: 0.0010\n",
      "Epoch 2/5\n",
      "\u001b[1m1/1\u001b[0m \u001b[32m━━━━━━━━━━━━━━━━━━━━\u001b[0m\u001b[37m\u001b[0m \u001b[1m0s\u001b[0m 35ms/step - loss: 1.4414 - mae: 1.0383 - learning_rate: 0.0010\n",
      "Epoch 3/5\n",
      "\u001b[1m1/1\u001b[0m \u001b[32m━━━━━━━━━━━━━━━━━━━━\u001b[0m\u001b[37m\u001b[0m \u001b[1m0s\u001b[0m 29ms/step - loss: 1.4254 - mae: 1.0327 - learning_rate: 0.0010\n",
      "Epoch 4/5\n",
      "\u001b[1m1/1\u001b[0m \u001b[32m━━━━━━━━━━━━━━━━━━━━\u001b[0m\u001b[37m\u001b[0m \u001b[1m0s\u001b[0m 33ms/step - loss: 1.4101 - mae: 1.0270 - learning_rate: 0.0010\n",
      "Epoch 5/5\n",
      "\u001b[1m1/1\u001b[0m \u001b[32m━━━━━━━━━━━━━━━━━━━━\u001b[0m\u001b[37m\u001b[0m \u001b[1m0s\u001b[0m 28ms/step - loss: 1.3954 - mae: 1.0214 - learning_rate: 0.0010\n",
      "\n",
      "start time:  ['Jul', '22', '14:29:29']\n",
      "loss_py of 1 epoches =  1.4581\n",
      "loss_py of 2 epoches =  1.4414\n",
      "loss_py of 3 epoches =  1.4254\n",
      "loss_py of 4 epoches =  1.4101\n",
      "loss_py of 5 epoches =  1.3954\n",
      "\n",
      "end time:  ['Jul', '22', '14:29:29']\n"
     ]
    }
   ],
   "source": [
    "from keras.callbacks import ModelCheckpoint\n",
    "import tensorflow as tf\n",
    "from tensorflow.keras.callbacks import ReduceLROnPlateau\n",
    "\n",
    "'''Tensorflow'''\n",
    "t1 = time.monotonic(); startime = time.ctime(); startime = startime.split()\n",
    "print(\"start time: \", startime[1:4])\n",
    "\n",
    "dec_rate, dec_step = 0.5, 10     \n",
    "opti_tf = tf.keras.optimizers.Adam(0.001)\n",
    "reduce_lr = ReduceLROnPlateau(monitor='loss', factor = dec_rate, patience = dec_step, min_lr=1e-5)\n",
    "m_tf.compile(loss='mse', optimizer=opti_tf, metrics=['mae'])\n",
    "\n",
    "history = m_tf.fit(input_tf, targ_tf, epochs=5, verbose=1, callbacks=[reduce_lr])    # X_train_tf, y_train_tf\n",
    "\n",
    "'''Pytorch'''\n",
    "t1 = time.monotonic(); startime = time.ctime(); startime = startime.split()\n",
    "print(\"\\nstart time: \", startime[1:4])\n",
    "device = torch.device(\"cuda:0\" if torch.cuda.is_available() else \"cpu\")\n",
    "criterion = nn.MSELoss()  \n",
    "opti_py = optim.Adam(m_py.parameters(), lr=0.001)\n",
    "reduce_rate = optim.lr_scheduler.ReduceLROnPlateau(opti_py, mode='min', factor = dec_rate, patience = dec_step, verbose=True)\n",
    "\n",
    "traloss, valioss = [], []\n",
    "for t in range(5):\n",
    "  #  T r a i n\n",
    "    m_py.train()\n",
    "    y_pred = m_py(input_py)         # input_py\n",
    "    loss = criterion(y_pred, targ_py)   # X_train, y_pred, y_train\n",
    "    opti_py.zero_grad()\n",
    "    loss.backward()\n",
    "    opti_py.step()\n",
    "    reduce_rate.step(loss)\n",
    "    traloss.append(np.round(torch.sqrt(loss).item(), 5))\n",
    "    print(f'loss_py of {t+1} epoches = ', '%.4f'%float(loss.detach().numpy()))\n",
    "    \n",
    "t1 = time.monotonic(); startime = time.ctime(); startime = startime.split()\n",
    "print(\"\\nend time: \", startime[1:4])"
   ]
  },
  {
   "cell_type": "code",
   "execution_count": null,
   "id": "ec9ec649",
   "metadata": {},
   "outputs": [],
   "source": []
  }
 ],
 "metadata": {
  "kernelspec": {
   "display_name": "Python 3 (ipykernel)",
   "language": "python",
   "name": "python3"
  },
  "language_info": {
   "codemirror_mode": {
    "name": "ipython",
    "version": 3
   },
   "file_extension": ".py",
   "mimetype": "text/x-python",
   "name": "python",
   "nbconvert_exporter": "python",
   "pygments_lexer": "ipython3",
   "version": "3.10.9"
  }
 },
 "nbformat": 4,
 "nbformat_minor": 5
}
